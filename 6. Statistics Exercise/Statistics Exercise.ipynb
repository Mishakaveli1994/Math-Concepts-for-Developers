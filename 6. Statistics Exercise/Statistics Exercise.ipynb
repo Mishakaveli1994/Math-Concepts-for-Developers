{
 "cells": [
  {
   "cell_type": "code",
   "execution_count": 1,
   "metadata": {
    "collapsed": true
   },
   "outputs": [],
   "source": [
    "%matplotlib inline"
   ]
  },
  {
   "cell_type": "code",
   "execution_count": 2,
   "metadata": {
    "collapsed": true
   },
   "outputs": [],
   "source": [
    "import numpy as np\n",
    "import matplotlib.pyplot as plt\n",
    "import pandas as pd\n",
    "from sklearn.datasets import load_boston\n",
    "from sklearn.linear_model import LinearRegression"
   ]
  },
  {
   "cell_type": "markdown",
   "metadata": {},
   "source": [
    "# Statistics Exercise\n",
    "## Statistical Distributions. Properties of distributions. Applications of Probability and Statistics in Computer Science"
   ]
  },
  {
   "cell_type": "markdown",
   "metadata": {},
   "source": [
    "### Problem 1. Plotting a Single Distribution. Digits in $\\pi$ and $e$\n",
    "We expect that the decimal digits in $\\pi$ and $e$ will be randomly distributed and there's no reason for any digit to dominate over others. Let's verify this.\n",
    "\n",
    "Using an algorithm, the first 10 004 digits of $\\pi$ and $e$ were generated:\n",
    "$$\n",
    "\\pi = 3.(141592 \\dots 5678)5667\n",
    "e = 2.(718281 \\dots 6788)5674\n",
    "$$\n",
    "\n",
    "The 10 000 digits in brackets were counted. You can see the results in `digits.dat`. Each column corresponds to one digit from 0 to 9. The first row is for $\\pi$ and the second row is for $e$.\n",
    "\n",
    "How are these digits distributed? Are the two distributions different?\n",
    "\n",
    "**Note:** The dataset is **not properly formatted** to work easily. You can transpose it. Now, digit counts will be in rows and variables - in columns. \n",
    "```python\n",
    "digits = pd.read_table(\"digits.dat\", header = None).T\n",
    "```\n",
    "\n",
    "You can also specify column names like this:\n",
    "```python\n",
    "digits.columns = [\"pi\", \"e\"]\n",
    "```\n",
    "\n",
    "Also note that **we are not creating the histogram of the distribution**. We already have the counts, we need to plot them. In a sense, the histogram has already been calculated.\n",
    "\n",
    "To do this, we can create a \"bar chart\" (using `plt.bar()`). We have to provide values for the x-axis and y-axis. For the x-axis, we have the numbers 0 through 9 (we can use the *index* of the dataset like this: `digits.index`). For the y-axis, we need to plot the digit counts directly.\n",
    "\n",
    "We can see that even the simplest datasets sometimes need a bit of preprocessing. This is always the case when we're working with data."
   ]
  },
  {
   "cell_type": "code",
   "execution_count": 3,
   "metadata": {},
   "outputs": [
    {
     "data": {
      "image/png": "[encoded data removed]",
      "text/plain": [
       "<matplotlib.figure.Figure at 0x1ccbcac1588>"
      ]
     },
     "metadata": {},
     "output_type": "display_data"
    }
   ],
   "source": [
    "digits = pd.read_table('digits.dat', header = None).T\n",
    "digits.columns = ['pi', 'e']\n",
    "plt.bar(digits.index, digits['pi'], alpha = 0.5, label = 'pi')\n",
    "plt.bar(digits.index, digits['e'], alpha = 0.5, label = 'e')\n",
    "plt.legend(bbox_to_anchor = (1, 1.2))\n",
    "plt.show()"
   ]
  },
  {
   "cell_type": "markdown",
   "metadata": {},
   "source": [
    "Let's try something else. Scientists have measured the percentage of silica ($\\text{SiO_2}$, sand / glass) for 22 meteors. You can find it in `silica.dat`. How are these distributed? What is a \"typical\" percentage? Is there such percentage at all?\n",
    "\n",
    "Print the mean, standard deviation (you can use the biased or unbiased formula), skewness and kurtosis of the distribution. What do these numbers tell you? How do they relateto the shape of the distribution? Can you characterize the distribution better? (An idea would be to characterize different parts of it on their own, as if they're different distributions.)"
   ]
  },
  {
   "cell_type": "code",
   "execution_count": 4,
   "metadata": {},
   "outputs": [
    {
     "data": {
      "image/png": "[encoded data removed]",
      "text/plain": [
       "<matplotlib.figure.Figure at 0x1ccbcac1080>"
      ]
     },
     "metadata": {},
     "output_type": "display_data"
    },
    {
     "name": "stdout",
     "output_type": "stream",
     "text": [
      "Mean: 29.165000000000006\n",
      "Standart deviation (std): 4.29153513436903\n",
      "Skewness: -0.44644211385\n",
      "Kurtosis: -0.924297072695\n"
     ]
    }
   ],
   "source": [
    "silica = pd.read_table('silica.dat', header = None)[0]\n",
    "plt.hist(silica, bins = 12)\n",
    "plt.show()\n",
    "print('Mean: ' + str(silica.mean()))\n",
    "print('Standart deviation (std): ' + str(silica.std()))\n",
    "print('Skewness: ' + str(silica.skew()))\n",
    "print('Kurtosis: ' + str(silica.kurtosis()))"
   ]
  },
  {
   "cell_type": "markdown",
   "metadata": {},
   "source": [
    "### Problem 2. Categorical Variables. Comparing Categories\n",
    "In addition to numeric variables (like age and salary), in statistics we also use **categorical variables**. These are descriptions of quality (as opposed to quantity). Such variables can be gender, smoker / non-smoker, results of a medical study (healthy / not healthy), colors (red, green, blue), etc. To plot values of categories, we use *bar charts*. Since category names can be long, it's sometimes useful to plot the lines horizontally.\n",
    "\n",
    "<p style=\"color: #d9534f\"><strong>There is a very significant difference between histograms and bar charts. Histograms are used to plot the frequency distribution of one numeric variable. Bar charts are used to plot categorical variables - how each value compares to other values.</strong></p>\n",
    "\n",
    "The dataset `us_budget.dat` contains the figures for the eight main items in the US budget for 1978 and 1979 in billions\n",
    "of dollars.\n",
    "\n",
    "Display the two budgets separately. Use `xlabel()` (or `ylabel()` if your plot is horizontal) to write the names of each category. You can use [this](https://matplotlib.org/examples/pylab_examples/barchart_demo.html) and [this](https://matplotlib.org/examples/pylab_examples/barchart_demo2.html) examples as a guide.\n",
    "\n",
    "Create another variable which shows the difference in budget $\\Delta b = b_{1979} - b_{1978}$. Add this variable to the dataset (find out how). Plot it. How does the budget differ?\n",
    "\n",
    "Since the numbers are different, a better comparison will be if we convert them to percentages of the total budget. Create two more variables for 1978 and 1979 and add them to the dataset. Plot these now. Also plot the difference in percentage, like you did before."
   ]
  },
  {
   "cell_type": "code",
   "execution_count": 5,
   "metadata": {
    "collapsed": true
   },
   "outputs": [],
   "source": [
    "us_budget = pd.read_table('us_budget.dat', index_col = 'Category')\n",
    "    \n",
    "def plot_budget(title, budget_array):\n",
    "    plt.title(title)\n",
    "    plt.barh(range(len(us_budget)), budget_array)\n",
    "    plt.yticks(range(len(us_budget)), us_budget.index) # Replace the y ticks with the category names \n",
    "    plt.xlabel('Money (billions $)')\n",
    "    plt.show()\n",
    "    \n",
    "def plot_budget_comparison(title, us_budget_1978, us_budget_1979, opacity = 0.5, x_label = 'Money (billions $)'):\n",
    "    plt.title(title)\n",
    "    plt.barh(range(len(us_budget)), us_budget_1978, alpha = opacity, label = '1978')\n",
    "    plt.barh(range(len(us_budget)), us_budget_1979, alpha = opacity, label = '1979')\n",
    "    plt.yticks(range(len(us_budget)), us_budget.index) # Replace the y ticks with the category names\n",
    "    plt.xlabel(x_label)\n",
    "    plt.legend(bbox_to_anchor = (1.25, 1))\n",
    "    plt.show()"
   ]
  },
  {
   "cell_type": "code",
   "execution_count": 6,
   "metadata": {},
   "outputs": [
    {
     "data": {
      "image/png": "[encoded data removed]",
      "text/plain": [
       "<matplotlib.figure.Figure at 0x1ccbddde780>"
      ]
     },
     "metadata": {},
     "output_type": "display_data"
    }
   ],
   "source": [
    "us_budget_1978 = us_budget['1978']\n",
    "plot_budget('US budget, 1978 year', us_budget_1978)"
   ]
  },
  {
   "cell_type": "code",
   "execution_count": 7,
   "metadata": {},
   "outputs": [
    {
     "data": {
      "image/png": "[encoded data removed]",
      "text/plain": [
       "<matplotlib.figure.Figure at 0x1ccbdec3ac8>"
      ]
     },
     "metadata": {},
     "output_type": "display_data"
    }
   ],
   "source": [
    "us_budget_1979 = us_budget['1979']\n",
    "plot_budget('US Budget, 1979 year', us_budget_1979)"
   ]
  },
  {
   "cell_type": "code",
   "execution_count": 8,
   "metadata": {},
   "outputs": [
    {
     "data": {
      "image/png": "[encoded data removed]",
      "text/plain": [
       "<matplotlib.figure.Figure at 0x1ccbdf6c630>"
      ]
     },
     "metadata": {},
     "output_type": "display_data"
    }
   ],
   "source": [
    "plot_budget_comparison('Us budget, comparison', us_budget_1978, us_budget_1979)"
   ]
  },
  {
   "cell_type": "code",
   "execution_count": 9,
   "metadata": {},
   "outputs": [
    {
     "data": {
      "image/png": "[encoded data removed]",
      "text/plain": [
       "<matplotlib.figure.Figure at 0x1ccbdf6c6a0>"
      ]
     },
     "metadata": {},
     "output_type": "display_data"
    }
   ],
   "source": [
    "us_budget['difference'] = us_budget_1979 - us_budget_1978\n",
    "plot_budget('US budget, difference', us_budget['difference'])"
   ]
  },
  {
   "cell_type": "code",
   "execution_count": 10,
   "metadata": {},
   "outputs": [
    {
     "data": {
      "image/png": "[encoded data removed]",
      "text/plain": [
       "<matplotlib.figure.Figure at 0x1ccbcb36438>"
      ]
     },
     "metadata": {},
     "output_type": "display_data"
    }
   ],
   "source": [
    "us_budget_sums = us_budget.sum()\n",
    "us_budget['1978 percentage'] = us_budget_1978 / us_budget_sums['1978'] * 100\n",
    "us_budget['1979 percentage'] = us_budget_1979 / us_budget_sums['1979'] * 100\n",
    "plot_budget_comparison(\n",
    "    'Us budget, comparison (percentage)',\n",
    "    us_budget['1978 percentage'],\n",
    "    us_budget['1979 percentage'],\n",
    "    0.5,\n",
    "    'Percentage')"
   ]
  },
  {
   "cell_type": "markdown",
   "metadata": {},
   "source": [
    "### Problem 3. Correlations between Variables. Alcohol and Tobacco Usage\n",
    "The dataset `alcohol_tobacco.dat` shows the average weekly household spending, in British pounds, on tobacco products and alcoholic beverages for each of the 11 regions of Great Britain.\n",
    "\n",
    "Create a scatter plot. Print the correlation coefficient. You can use the **correlation matrix** (find out how).\n",
    "\n",
    "There's a major outlier. Which is it?\n",
    "\n",
    "Remove the outlier from the dataset (find out how). Calculate the correlation coefficient once again. It should be much higher.\n",
    "\n",
    "This example is useful to show what an outlier is, and how an outlier can influence the results of an experiment.\n",
    "\n",
    "**Note:** Be careful with outliers. Sometimes they indicate human error (e.g. human height 1588 cm is obviously wrong) but sometimes they indicate important patterns in the data. Should you remove, replace, or leave them is a difficult question and should be answered separately for each dataset."
   ]
  },
  {
   "cell_type": "code",
   "execution_count": 11,
   "metadata": {
    "collapsed": true
   },
   "outputs": [],
   "source": [
    "alcohol_tobacco = pd.read_table('alcohol_tobacco.dat')\n",
    "def plot_alcohol_tobacco(data):\n",
    "    plt.scatter(data.Alcohol, data.Tobacco)\n",
    "    plt.xlabel('Alcohol')\n",
    "    plt.ylabel('Tobacco')\n",
    "    plt.show()\n",
    "    print(data.corr()) # Show the correlation matrix"
   ]
  },
  {
   "cell_type": "code",
   "execution_count": 12,
   "metadata": {},
   "outputs": [
    {
     "data": {
      "image/png": "[encoded data removed]",
      "text/plain": [
       "<matplotlib.figure.Figure at 0x1ccbdf1bb70>"
      ]
     },
     "metadata": {},
     "output_type": "display_data"
    },
    {
     "name": "stdout",
     "output_type": "stream",
     "text": [
      "          Alcohol   Tobacco\n",
      "Alcohol  1.000000  0.223572\n",
      "Tobacco  0.223572  1.000000\n"
     ]
    },
    {
     "data": {
      "image/png": "[encoded data removed]",
      "text/plain": [
       "<matplotlib.figure.Figure at 0x1ccbcb6b208>"
      ]
     },
     "metadata": {},
     "output_type": "display_data"
    },
    {
     "name": "stdout",
     "output_type": "stream",
     "text": [
      "          Alcohol   Tobacco\n",
      "Alcohol  1.000000  0.784287\n",
      "Tobacco  0.784287  1.000000\n"
     ]
    }
   ],
   "source": [
    "plot_alcohol_tobacco(alcohol_tobacco)\n",
    "alcohol_tobacco_filtered = alcohol_tobacco.where(alcohol_tobacco.Region != 'Northern Ireland').dropna()\n",
    "plot_alcohol_tobacco(alcohol_tobacco_filtered)"
   ]
  },
  {
   "cell_type": "markdown",
   "metadata": {},
   "source": [
    "### Problem 4. Linear Regression, Part 3. Putting It All Together\n",
    "We can now see the entire picture. We started with data points $(x; y)$. Those were related:\n",
    "$$ y = ax + b + \\varepsilon $$\n",
    "\n",
    "We needed to find \"the best\" line which describes the points (and \"disregards\" the random errors). We knew that the best line should lie as close as possible to all points.\n",
    "\n",
    "We model the data with a line with unknown coefficients: $\\hat{y} = \\hat{a}x + \\hat{b}$.\n",
    "\n",
    "We defined the distance between a point $(x, y)$ and the line through $(x, \\hat{y})$ as $d = (y-\\hat{y})^2$. Using this, we defined the total distance as the sum of all distances (normalized  over all points):\n",
    "$$ J = \\frac{1}{N}\\sum(y_i-\\hat{y}_i)^2 = \\frac{1}{N}\\sum\\left(y_i-(\\hat{a}x + \\hat{b})\\right)^2 $$\n",
    "\n",
    "This is our **loss function**. The best line will **minimize** this distance.\n",
    "\n",
    "To minimize the distance, we could use **gradient descent**. This method finds the parameters which correspond to the best line. After that, we're ready. We have now modelled the original data with our line."
   ]
  },
  {
   "cell_type": "code",
   "execution_count": 13,
   "metadata": {
    "collapsed": true
   },
   "outputs": [],
   "source": [
    "def generate_noisy_linear_data(a, b):\n",
    "    \"\"\"\n",
    "    Generates a noisy sequence y = ax + b + epsilon\n",
    "    \"\"\"\n",
    "    x = np.linspace(-4, 4, 10)\n",
    "    y = a * x + b\n",
    "    y_error = np.random.randn(len(x))\n",
    "    y += y_error\n",
    "    return (x, y)"
   ]
  },
  {
   "cell_type": "code",
   "execution_count": 14,
   "metadata": {},
   "outputs": [
    {
     "data": {
      "image/png": "[encoded data removed]",
      "text/plain": [
       "<matplotlib.figure.Figure at 0x1ccbe03fd30>"
      ]
     },
     "metadata": {},
     "output_type": "display_data"
    }
   ],
   "source": [
    "data_x, data_y = generate_noisy_linear_data(2, 3) # y = 2x + 3\n",
    "plt.scatter(data_x, data_y)\n",
    "plt.show()"
   ]
  },
  {
   "cell_type": "code",
   "execution_count": 15,
   "metadata": {
    "collapsed": true
   },
   "outputs": [],
   "source": [
    "def calculate_loss(x, y, a, b):\n",
    "    \"\"\"\n",
    "    Calculates the loss function for linear regression. \n",
    "    Accepts the original data points (x, y), and the parameters of the line (a, b).\n",
    "    \"\"\"\n",
    "    y_predicted = a * x + b\n",
    "    distances = (y - y_predicted) ** 2\n",
    "    return np.sum(distances) / len(x)"
   ]
  },
  {
   "cell_type": "code",
   "execution_count": 16,
   "metadata": {},
   "outputs": [
    {
     "name": "stdout",
     "output_type": "stream",
     "text": [
      "Loss function at a = 2, b = 3: 1.86491091468\n",
      "Loss function at a = 2, b = 2.5: 2.33297366258\n",
      "Loss function at a = 2, b = 10: 47.8120324442\n",
      "Loss function at a = -5, b = 3: 332.227707493\n"
     ]
    }
   ],
   "source": [
    "# Testing the loss function with several values of a and b\n",
    "for model_a, model_b in [(2, 3), (2, 2.5), (2, 10), (-5, 3)]:\n",
    "    print(\n",
    "        \"Loss function at a = \" + str(model_a) + \", b = \" + str(model_b) + \":\", \n",
    "        calculate_loss(data_x, data_y, model_a, model_b))"
   ]
  },
  {
   "cell_type": "markdown",
   "metadata": {},
   "source": [
    "To implement gradient descent, we need to calculate the partial derivatives of the loss function with respect to $a$ and $b$. We can do this numerically (using a function for numerical differentiation). However, numerical differentiation can be problematic. Also, it's always possible to calculate a derivative of a \"well-behaved function\" analytically. That's why we'd better calculate the derivatives by hand first and input the formulas directly.\n",
    "\n",
    "If you don't want to do this, here are the formulas for the derivatives. Note that they are all scaled by the number of points, like the error function:\n",
    "$$ \\frac{\\partial J}{\\partial a} = -\\frac{2}{N} \\sum x_i\\left(y_i - \\hat{y}\\right) $$\n",
    "\n",
    "$$ \\frac{\\partial J}{\\partial b} = -\\frac{2}{N} \\sum \\left(y_i - \\hat{y}\\right) $$\n",
    "\n",
    "where $\\hat{y}_i = ax_i + b$.\n",
    "\n",
    "Note the negative sign. This is because we want to \"move downhill\" on the gradient.\n",
    "\n",
    "After computing the gradients, we need to update the values:\n",
    "$$ a = a - \\alpha \\frac{\\partial J}{\\partial a} $$\n",
    "\n",
    "$$ b = b - \\alpha \\frac{\\partial J}{\\partial b} $$\n",
    "\n",
    "where $\\alpha$ is an \"outside\" parameter (it defines what step size we want to take). It's commonly called **learning rate**.\n",
    "\n",
    "**Bonus:** Compare the vectorized implementation below to an unvectorized implementation, using standard Python. See for example [this one](https://github.com/mattnedrich/GradientDescentExample/blob/master/gradient_descent_example.py). Look at how much cleaner (and probably faster) the code is when using `numpy` and vectorization."
   ]
  },
  {
   "cell_type": "code",
   "execution_count": 17,
   "metadata": {
    "collapsed": true
   },
   "outputs": [],
   "source": [
    "def perform_gradient_descent(x, y, a, b, learning_rate):\n",
    "    \"\"\"\n",
    "    Performs one step of gradient descent on the linear regression y = ax + b\n",
    "    using the cost function J\n",
    "    \"\"\"\n",
    "    a_gradient = -2 / len(x) * np.sum(x * (y - (a * x + b)))\n",
    "    b_gradient = -2 / len(y) * np.sum(y - (a * x + b))\n",
    "    \n",
    "    new_a = a - a_gradient * learning_rate\n",
    "    new_b = b - b_gradient * learning_rate\n",
    "    return (new_a, new_b)"
   ]
  },
  {
   "cell_type": "markdown",
   "metadata": {},
   "source": [
    "We finally want to run our gradient descent algorithm. There are many ways to decide when to stop taking new steps but the most common (and easiest) one is to perform it for some fixed iterations, say 1000."
   ]
  },
  {
   "cell_type": "code",
   "execution_count": 18,
   "metadata": {},
   "outputs": [
    {
     "name": "stdout",
     "output_type": "stream",
     "text": [
      "Step 0 a = -8.4199049996 b = 19.664361255 cost =  996.350193479\n",
      "Step 100 a = 2.12003783595 b = 5.39916355201 cost =  6.48062025176\n",
      "Step 200 a = 2.12004687809 b = 3.5073193679 cost =  1.80708892572\n",
      "Step 300 a = 2.12004687809 b = 3.25642383238 cost =  1.7248911063\n",
      "Step 400 a = 2.12004687809 b = 3.22315017788 cost =  1.72344541544\n",
      "Step 500 a = 2.12004687809 b = 3.2187374406 cost =  1.72341998871\n",
      "Step 600 a = 2.12004687809 b = 3.21815222534 cost =  1.72341954151\n",
      "Step 700 a = 2.12004687809 b = 3.21807461435 cost =  1.72341953364\n",
      "Step 800 a = 2.12004687809 b = 3.21806432162 cost =  1.7234195335\n",
      "Step 900 a = 2.12004687809 b = 3.2180629566 cost =  1.7234195335\n",
      "Step 1000 a = 2.12004687809 b = 3.21806277557 cost =  1.7234195335\n",
      "Final line: 2.12004687809 * x + 3.21806277557\n"
     ]
    }
   ],
   "source": [
    "model_a = -10\n",
    "model_b = 20\n",
    "\n",
    "cost = []\n",
    "for step in range(1001):\n",
    "    model_a, model_b = perform_gradient_descent(data_x, data_y, model_a, model_b, 0.01)\n",
    "    if step % 50 == 0:\n",
    "        cost.append(calculate_loss(data_x, data_y, model_a, model_b))\n",
    "    if step % 100 == 0:\n",
    "        print(\"Step\", step, \"a =\", model_a, \"b =\", model_b, \"cost = \", calculate_loss(data_x, data_y, model_a, model_b))\n",
    "print(\"Final line: \" + str(model_a) + \" * x\" + \" + \" + str(model_b)) "
   ]
  },
  {
   "cell_type": "code",
   "execution_count": 19,
   "metadata": {},
   "outputs": [
    {
     "data": {
      "image/png": "[encoded data removed]",
      "text/plain": [
       "<matplotlib.figure.Figure at 0x1ccbe0bd5f8>"
      ]
     },
     "metadata": {},
     "output_type": "display_data"
    }
   ],
   "source": [
    "plt.plot(cost)\n",
    "plt.show()"
   ]
  },
  {
   "cell_type": "code",
   "execution_count": 32,
   "metadata": {},
   "outputs": [
    {
     "data": {
      "image/png": "[encoded data removed]",
      "text/plain": [
       "<matplotlib.figure.Figure at 0x1ccbe465ac8>"
      ]
     },
     "metadata": {},
     "output_type": "display_data"
    }
   ],
   "source": [
    "plt.scatter(data_x, data_y)\n",
    "model_y = model_a * data_x + model_b\n",
    "plt.plot(data_x, model_y, color = \"red\")\n",
    "plt.show()"
   ]
  },
  {
   "cell_type": "markdown",
   "metadata": {},
   "source": [
    "### Problem 5. Multiple Linear Regression\n",
    "The notion of linear regression can very easily be generalized to more than one variable. Let's inspect a popular dataset."
   ]
  },
  {
   "cell_type": "code",
   "execution_count": 21,
   "metadata": {
    "scrolled": false
   },
   "outputs": [
    {
     "name": "stdout",
     "output_type": "stream",
     "text": [
      "Boston House Prices dataset\n",
      "===========================\n",
      "\n",
      "Notes\n",
      "------\n",
      "Data Set Characteristics:  \n",
      "\n",
      "    :Number of Instances: 506 \n",
      "\n",
      "    :Number of Attributes: 13 numeric/categorical predictive\n",
      "    \n",
      "    :Median Value (attribute 14) is usually the target\n",
      "\n",
      "    :Attribute Information (in order):\n",
      "        - CRIM     per capita crime rate by town\n",
      "        - ZN       proportion of residential land zoned for lots over 25,000 sq.ft.\n",
      "        - INDUS    proportion of non-retail business acres per town\n",
      "        - CHAS     Charles River dummy variable (= 1 if tract bounds river; 0 otherwise)\n",
      "        - NOX      nitric oxides concentration (parts per 10 million)\n",
      "        - RM       average number of rooms per dwelling\n",
      "        - AGE      proportion of owner-occupied units built prior to 1940\n",
      "        - DIS      weighted distances to five Boston employment centres\n",
      "        - RAD      index of accessibility to radial highways\n",
      "        - TAX      full-value property-tax rate per $10,000\n",
      "        - PTRATIO  pupil-teacher ratio by town\n",
      "        - B        1000(Bk - 0.63)^2 where Bk is the proportion of blacks by town\n",
      "        - LSTAT    % lower status of the population\n",
      "        - MEDV     Median value of owner-occupied homes in $1000's\n",
      "\n",
      "    :Missing Attribute Values: None\n",
      "\n",
      "    :Creator: Harrison, D. and Rubinfeld, D.L.\n",
      "\n",
      "This is a copy of UCI ML housing dataset.\n",
      "http://archive.ics.uci.edu/ml/datasets/Housing\n",
      "\n",
      "\n",
      "This dataset was taken from the StatLib library which is maintained at Carnegie Mellon University.\n",
      "\n",
      "The Boston house-price data of Harrison, D. and Rubinfeld, D.L. 'Hedonic\n",
      "prices and the demand for clean air', J. Environ. Economics & Management,\n",
      "vol.5, 81-102, 1978.   Used in Belsley, Kuh & Welsch, 'Regression diagnostics\n",
      "...', Wiley, 1980.   N.B. Various transformations are used in the table on\n",
      "pages 244-261 of the latter.\n",
      "\n",
      "The Boston house-price data has been used in many machine learning papers that address regression\n",
      "problems.   \n",
      "     \n",
      "**References**\n",
      "\n",
      "   - Belsley, Kuh & Welsch, 'Regression diagnostics: Identifying Influential Data and Sources of Collinearity', Wiley, 1980. 244-261.\n",
      "   - Quinlan,R. (1993). Combining Instance-Based and Model-Based Learning. In Proceedings on the Tenth International Conference of Machine Learning, 236-243, University of Massachusetts, Amherst. Morgan Kaufmann.\n",
      "   - many more! (see http://archive.ics.uci.edu/ml/datasets/Housing)\n",
      "\n"
     ]
    }
   ],
   "source": [
    "housing = load_boston()\n",
    "print(housing.DESCR)"
   ]
  },
  {
   "cell_type": "markdown",
   "metadata": {},
   "source": [
    "We usually want to work with the data using `pandas`. The default format is a bit inconvenient. Let's quickly create a new `pd.DataFrame` from the original data:"
   ]
  },
  {
   "cell_type": "code",
   "execution_count": 22,
   "metadata": {},
   "outputs": [
    {
     "data": {
      "text/html": [
       "<div>\n",
       "<style>\n",
       "    .dataframe thead tr:only-child th {\n",
       "        text-align: right;\n",
       "    }\n",
       "\n",
       "    .dataframe thead th {\n",
       "        text-align: left;\n",
       "    }\n",
       "\n",
       "    .dataframe tbody tr th {\n",
       "        vertical-align: top;\n",
       "    }\n",
       "</style>\n",
       "<table border=\"1\" class=\"dataframe\">\n",
       "  <thead>\n",
       "    <tr style=\"text-align: right;\">\n",
       "      <th></th>\n",
       "      <th>CRIM</th>\n",
       "      <th>ZN</th>\n",
       "      <th>INDUS</th>\n",
       "      <th>CHAS</th>\n",
       "      <th>NOX</th>\n",
       "      <th>RM</th>\n",
       "      <th>AGE</th>\n",
       "      <th>DIS</th>\n",
       "      <th>RAD</th>\n",
       "      <th>TAX</th>\n",
       "      <th>PTRATIO</th>\n",
       "      <th>B</th>\n",
       "      <th>LSTAT</th>\n",
       "      <th>Price</th>\n",
       "    </tr>\n",
       "  </thead>\n",
       "  <tbody>\n",
       "    <tr>\n",
       "      <th>0</th>\n",
       "      <td>0.00632</td>\n",
       "      <td>18.0</td>\n",
       "      <td>2.31</td>\n",
       "      <td>0.0</td>\n",
       "      <td>0.538</td>\n",
       "      <td>6.575</td>\n",
       "      <td>65.2</td>\n",
       "      <td>4.0900</td>\n",
       "      <td>1.0</td>\n",
       "      <td>296.0</td>\n",
       "      <td>15.3</td>\n",
       "      <td>396.90</td>\n",
       "      <td>4.98</td>\n",
       "      <td>24.0</td>\n",
       "    </tr>\n",
       "    <tr>\n",
       "      <th>1</th>\n",
       "      <td>0.02731</td>\n",
       "      <td>0.0</td>\n",
       "      <td>7.07</td>\n",
       "      <td>0.0</td>\n",
       "      <td>0.469</td>\n",
       "      <td>6.421</td>\n",
       "      <td>78.9</td>\n",
       "      <td>4.9671</td>\n",
       "      <td>2.0</td>\n",
       "      <td>242.0</td>\n",
       "      <td>17.8</td>\n",
       "      <td>396.90</td>\n",
       "      <td>9.14</td>\n",
       "      <td>21.6</td>\n",
       "    </tr>\n",
       "    <tr>\n",
       "      <th>2</th>\n",
       "      <td>0.02729</td>\n",
       "      <td>0.0</td>\n",
       "      <td>7.07</td>\n",
       "      <td>0.0</td>\n",
       "      <td>0.469</td>\n",
       "      <td>7.185</td>\n",
       "      <td>61.1</td>\n",
       "      <td>4.9671</td>\n",
       "      <td>2.0</td>\n",
       "      <td>242.0</td>\n",
       "      <td>17.8</td>\n",
       "      <td>392.83</td>\n",
       "      <td>4.03</td>\n",
       "      <td>34.7</td>\n",
       "    </tr>\n",
       "    <tr>\n",
       "      <th>3</th>\n",
       "      <td>0.03237</td>\n",
       "      <td>0.0</td>\n",
       "      <td>2.18</td>\n",
       "      <td>0.0</td>\n",
       "      <td>0.458</td>\n",
       "      <td>6.998</td>\n",
       "      <td>45.8</td>\n",
       "      <td>6.0622</td>\n",
       "      <td>3.0</td>\n",
       "      <td>222.0</td>\n",
       "      <td>18.7</td>\n",
       "      <td>394.63</td>\n",
       "      <td>2.94</td>\n",
       "      <td>33.4</td>\n",
       "    </tr>\n",
       "    <tr>\n",
       "      <th>4</th>\n",
       "      <td>0.06905</td>\n",
       "      <td>0.0</td>\n",
       "      <td>2.18</td>\n",
       "      <td>0.0</td>\n",
       "      <td>0.458</td>\n",
       "      <td>7.147</td>\n",
       "      <td>54.2</td>\n",
       "      <td>6.0622</td>\n",
       "      <td>3.0</td>\n",
       "      <td>222.0</td>\n",
       "      <td>18.7</td>\n",
       "      <td>396.90</td>\n",
       "      <td>5.33</td>\n",
       "      <td>36.2</td>\n",
       "    </tr>\n",
       "  </tbody>\n",
       "</table>\n",
       "</div>"
      ],
      "text/plain": [
       "      CRIM    ZN  INDUS  CHAS    NOX     RM   AGE     DIS  RAD    TAX  \\\n",
       "0  0.00632  18.0   2.31   0.0  0.538  6.575  65.2  4.0900  1.0  296.0   \n",
       "1  0.02731   0.0   7.07   0.0  0.469  6.421  78.9  4.9671  2.0  242.0   \n",
       "2  0.02729   0.0   7.07   0.0  0.469  7.185  61.1  4.9671  2.0  242.0   \n",
       "3  0.03237   0.0   2.18   0.0  0.458  6.998  45.8  6.0622  3.0  222.0   \n",
       "4  0.06905   0.0   2.18   0.0  0.458  7.147  54.2  6.0622  3.0  222.0   \n",
       "\n",
       "   PTRATIO       B  LSTAT  Price  \n",
       "0     15.3  396.90   4.98   24.0  \n",
       "1     17.8  396.90   9.14   21.6  \n",
       "2     17.8  392.83   4.03   34.7  \n",
       "3     18.7  394.63   2.94   33.4  \n",
       "4     18.7  396.90   5.33   36.2  "
      ]
     },
     "execution_count": 22,
     "metadata": {},
     "output_type": "execute_result"
    }
   ],
   "source": [
    "housing_df = pd.DataFrame(data = housing.data, columns = housing.feature_names)\n",
    "housing_df[\"Price\"] = housing.target\n",
    "housing_df.head()"
   ]
  },
  {
   "cell_type": "markdown",
   "metadata": {},
   "source": [
    "All variables except the last one are called **explanatory variables**. The price of the house is our **target variable**.\n",
    "\n",
    "We propose the hypothesis that the price is a linear function of all other predictors, that is:\n",
    "\n",
    "$$ \\text{Price} = \\beta_0 + \\beta_1 \\text{CRIM} + \\beta_2 \\text{ZN} + \\beta_3 \\text{INDUS} + \\dots + \\beta_{13}\\text{LSTAT}  $$\n",
    "\n",
    "This is the same as $y = ax + b$, except $x$ is now a vector, not a single number.\n",
    "\n",
    "How can we attack the problem? We know that the variables are independent, so we can perform many linear regressions:\n",
    "\n",
    "$$ \\text{Price}_{CRIM} = \\beta_{0,\\text{CRIM}} + \\beta_1 \\text{CRIM} $$\n",
    "$$ \\text{Price}_{ZN} = \\beta_{0,\\text{ZN}} + \\beta_1 \\text{ZN} $$\n",
    "$$ \\vdots $$\n",
    "\n",
    "$$ \\text{Price} = \\text{Price}_{CRIM} + \\text{Price}_{ZN} + \\dots + \\text{Price}_{LSTAT} $$\n",
    "\n",
    "All these operations can be vectorized. This means that if we take $x$ and $b$ to be vectors, and $A$ to be a matrix, we can perform all those calculations easily and computationally fast.\n",
    "\n",
    "Of course, we won't bother doing this right now. Feel free to implement this as an exercise.\n",
    "\n",
    "Instead, we'll use a ready model."
   ]
  },
  {
   "cell_type": "code",
   "execution_count": 23,
   "metadata": {},
   "outputs": [
    {
     "name": "stdout",
     "output_type": "stream",
     "text": [
      "('CRIM', -0.10717055656035428)\n",
      "('ZN', 0.046395219529804119)\n",
      "('INDUS', 0.020860239532168354)\n",
      "('CHAS', 2.6885613993178534)\n",
      "('NOX', -17.795758660308486)\n",
      "('RM', 3.8047524602580118)\n",
      "('AGE', 0.0007510617033197331)\n",
      "('DIS', -1.4757587965198153)\n",
      "('RAD', 0.30565503833909646)\n",
      "('TAX', -0.012329346305271827)\n",
      "('PTRATIO', -0.95346355469055832)\n",
      "('B', 0.0093925127221909932)\n",
      "('LSTAT', -0.5254666329007911)\n",
      "Free term: 36.4911032804\n"
     ]
    }
   ],
   "source": [
    "regression = LinearRegression()\n",
    "explanatory_variables = housing_df.drop(\"Price\", axis = 1)\n",
    "regression.fit(explanatory_variables, housing_df.Price)\n",
    "\n",
    "for coefficient in zip(explanatory_variables.columns, regression.coef_):\n",
    "    print(coefficient)\n",
    "print(\"Free term:\", regression.intercept_)"
   ]
  },
  {
   "cell_type": "markdown",
   "metadata": {},
   "source": [
    "There are many questions left. How good is the model? How well can it predict data? Are all variables necessary? Are there better models? We'll leave those unanswered for now. Feel free to explore them but beware: things can get hairy :).\n",
    "\n",
    "**Note:** Usually when we work with data, we want to know more about it before applying any kind of model. This includes cleaning the data and exploring it. In this case we didn't do this only because we wanted to accentuate on the multiple linear regression steps. **In any real situation** when we're presented with an unknown dataset, we have to get acquainted with the data before doing anything else."
   ]
  },
  {
   "cell_type": "markdown",
   "metadata": {},
   "source": [
    "### Problem 6. Simulation\n",
    "Another prediction technique based on statistics, is simulation. This means recreating a system's parameters and running the experiment on a computer instead of running it in real life. Simulation can give us many insights. It's useful for prediction, \"what-if\" analysis, etc. It's also very useful if we have very limited \"real experimentation\" resources and want to narrow down our possibilities.\n",
    "\n",
    "Let's see how we can simulate the profit of a grocery shop.\n",
    "\n",
    "The profit is dependent on the customers and what items they buy. Let's assume that the number of customers per months follows a normal distribution with mean 500 and standard deviation 20.\n",
    "\n",
    "$$ C ~ N(500, 20) $$\n",
    "\n",
    "In the shop, there are several items, each having a different popularity. The popularity represents the probability of buying each item.\n",
    "\n",
    "| Item               | Price | Popularity |\n",
    "|--------------------|-------|------------|\n",
    "| Bread              | 0.99  | 0.5        |\n",
    "| Milk               | 2.89  | 0.15       |\n",
    "| Eggs, dozen        | 2.00  | 0.2        |\n",
    "| Chicken fillet, kg | 6.39  | 0.15       |\n",
    "\n",
    "Each customer buys *exactly one* article at random. Each customer will generate an expected profit equal to $\\text{price} . \\text{popularity}$. Total profit: sum of all profits."
   ]
  },
  {
   "cell_type": "code",
   "execution_count": 24,
   "metadata": {
    "collapsed": true
   },
   "outputs": [],
   "source": [
    "def get_customer_profit():\n",
    "    n = np.random.random()\n",
    "    if n <= 0.5:\n",
    "        return 0.99\n",
    "    elif n < 0.65:\n",
    "        return 2.89\n",
    "    elif n <= 0.85:\n",
    "        return 2\n",
    "    else:\n",
    "        return 6.39"
   ]
  },
  {
   "cell_type": "code",
   "execution_count": 25,
   "metadata": {
    "collapsed": true
   },
   "outputs": [],
   "source": [
    "days = 1000\n",
    "def run_simulation():\n",
    "    profits = []\n",
    "    for day in range(days):\n",
    "        customers = np.floor(np.random.normal(500, 20))\n",
    "        profit = sum([get_customer_profit() for c in np.arange(customers)])\n",
    "        profits.append(profit)\n",
    "    return profits"
   ]
  },
  {
   "cell_type": "code",
   "execution_count": 26,
   "metadata": {},
   "outputs": [
    {
     "data": {
      "image/png": "[encoded data removed]",
      "text/plain": [
       "<matplotlib.figure.Figure at 0x1ccbe059588>"
      ]
     },
     "metadata": {},
     "output_type": "display_data"
    }
   ],
   "source": [
    "profits = run_simulation()\n",
    "plt.hist(profits, bins = 50)\n",
    "plt.xlabel(\"Profit for \" + str(days) + \" days [$]\")\n",
    "plt.ylabel(\"Count\")\n",
    "plt.show()"
   ]
  },
  {
   "cell_type": "markdown",
   "metadata": {},
   "source": [
    "Now we can answer questions like:\n",
    "* What's the probability of profit less than \\$1100? \n",
    "* What's the probability of profit between \\$1300 and \\$1400?\n",
    "\n",
    "We can also change our model. Let's suppose now that one customer can take 1, 2 or 3 items, with probabilities 0.5, 0.3 and 0.2 respectively. The picked items are independent. How does this change the distribution?"
   ]
  },
  {
   "cell_type": "code",
   "execution_count": 27,
   "metadata": {
    "collapsed": true
   },
   "outputs": [],
   "source": [
    "def get_customer_profit_many_items(items = 1):\n",
    "    customer_sum = sum([get_customer_profit() for i in range(items)])\n",
    "    return customer_sum\n",
    "\n",
    "def get_total_customer_profit():\n",
    "    n = np.random.random()\n",
    "    if n <= 0.5:\n",
    "        return get_customer_profit_many_items(1)\n",
    "    elif n <= 0.8:\n",
    "        return get_customer_profit_many_items(2)\n",
    "    else:\n",
    "        return get_customer_profit_many_items(3)"
   ]
  },
  {
   "cell_type": "code",
   "execution_count": 28,
   "metadata": {
    "collapsed": true
   },
   "outputs": [],
   "source": [
    "days = 1000\n",
    "def run_simulation_many_items():\n",
    "    profits_many_items = []\n",
    "    for day in range(days):\n",
    "        customers = np.floor(np.random.normal(500, 20))\n",
    "        profit = sum([get_total_customer_profit() for c in np.arange(customers)])\n",
    "        profits_many_items.append(profit)\n",
    "    return profits_many_items"
   ]
  },
  {
   "cell_type": "code",
   "execution_count": 29,
   "metadata": {},
   "outputs": [
    {
     "data": {
      "image/png": "[encoded data removed]",
      "text/plain": [
       "<matplotlib.figure.Figure at 0x1ccbcb9a710>"
      ]
     },
     "metadata": {},
     "output_type": "display_data"
    }
   ],
   "source": [
    "profits_many_items = run_simulation_many_items()\n",
    "plt.hist(profits_many_items, bins = 50)\n",
    "plt.xlabel(\"Profit for \" + str(days) + \" days [$]\")\n",
    "plt.ylabel(\"Count\")\n",
    "plt.show()"
   ]
  },
  {
   "cell_type": "code",
   "execution_count": 30,
   "metadata": {},
   "outputs": [
    {
     "data": {
      "image/png": "[encoded data removed]",
      "text/plain": [
       "<matplotlib.figure.Figure at 0x1ccbe0584e0>"
      ]
     },
     "metadata": {},
     "output_type": "display_data"
    }
   ],
   "source": [
    "plt.title(\"Comparison of profits: 1 vs 3 items\")\n",
    "plt.hist(profits, bins = 20)\n",
    "plt.hist(profits_many_items, bins = 20)\n",
    "plt.xlabel(\"Profit\")\n",
    "plt.ylabel(\"Count\")\n",
    "plt.show()"
   ]
  },
  {
   "cell_type": "markdown",
   "metadata": {},
   "source": [
    "### * Problem 7. Monte Carlo Simulation\n",
    "One common technique to apply simulations is called **Monte Carlo simulation**. It's similar to the simulation from the previous example. The main idea is to use random sampling to solve deterministic problems.\n",
    "\n",
    "Research what these simulations are. Give examples. Implement at least one case of a Monte Carlo simulation. You can use the following checklist to help with your research and work:\n",
    "* What is a simulation?\n",
    "    * How is simulation used in science?\n",
    "    * Why is a simulation useful?\n",
    "* How are statistics useful in simulation? How can we simulate unknown, random processes?\n",
    "* What is a Monte Carlo simulation (also known as \"Monte Carlo method\")?\n",
    "* A common use of Monte Carlo methods is numeric integration\n",
    "    * Define the problem. Propose the solution. Implement it and test with some common functions\n",
    "    * How does this method compare to other methods, e.g. the trapezoidal rule? Compare the performance (accuracy and time to execute) of both methods\n",
    "* Apply Monte Carlo simulation to a real-life system. There are many examples. You can see [Wikipedia](https://en.wikipedia.org/wiki/Monte_Carlo_method#Applications) or some other resource for inspiration."
   ]
  },
  {
   "cell_type": "markdown",
   "metadata": {},
   "source": [
    "### * Problem 8. Probabilistic Data Structures\n",
    "A very interesting application of probability in computer science is a kind of data structures which have a probabilistic behaviour. Examples of these are **Bloom filter**, **Skip list**, **Count-min sketch** and **HyperLogLog**.\n",
    "\n",
    "Research how one of these structures works. Or write about many of them, if you wish. You can use the following checklist as a guide:\n",
    "* What is a data structure? \n",
    "* What is a probabilistic data structure?\n",
    "    * Where does the probabilistic behaviour emerge?\n",
    "    * What advantages do these structures provide?\n",
    "* For your chosen structure, how is it constructed?\n",
    "    * What parts do you need? What are the details?\n",
    "* How does the structure work?\n",
    "    * What operations can you do?\n",
    "    * What are the typical probabilities associated with these operations?\n",
    "* Analyze the structure\n",
    "    * Analyze the runtimes for all operations\n",
    "    * Analyze the space usage\n",
    "    * Compare to a similar, non-probabilistic data structure\n",
    "    * What advantages does the new data structure have? What drawbacks do you need to be aware of?\n",
    "* Give at least one example where this structure is useful\n",
    "    * E.g. Bloom filter - spell checkers\n",
    "    * Analyze the use case\n",
    "    * If possible, implement the use case\n",
    "    * Display some metrics (e.g. % conserved space, % reduced time)"
   ]
  }
 ],
 "metadata": {
  "kernelspec": {
   "display_name": "Python 3",
   "language": "python",
   "name": "python3"
  },
  "language_info": {
   "codemirror_mode": {
    "name": "ipython",
    "version": 3
   },
   "file_extension": ".py",
   "mimetype": "text/x-python",
   "name": "python",
   "nbconvert_exporter": "python",
   "pygments_lexer": "ipython3",
   "version": "3.6.1"
  }
 },
 "nbformat": 4,
 "nbformat_minor": 2
}
